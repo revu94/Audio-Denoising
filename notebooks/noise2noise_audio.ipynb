{
 "cells": [
  {
   "cell_type": "code",
   "execution_count": 1,
   "metadata": {},
   "outputs": [],
   "source": [
    "%load_ext autoreload\n",
    "%autoreload 2"
   ]
  },
  {
   "cell_type": "code",
   "execution_count": 2,
   "metadata": {},
   "outputs": [],
   "source": [
    "from pathstuff import get_path\n",
    "path=get_path()\n"
   ]
  },
  {
   "cell_type": "code",
   "execution_count": null,
   "metadata": {},
   "outputs": [],
   "source": [
    "import torchaudio\n",
    "import torch\n",
    "from pathlib import Path\n",
    "from models.dataset import N2NDataset\n",
    "from models.noise2noiseunet_1 import train,Noise2NoiseUNet\n",
    "from torch.utils.data import DataLoader\n",
    "import noise_addition_utils\n",
    "import numpy as np\n",
    "np.random.seed(999)\n",
    "torch.manual_seed(999)"
   ]
  },
  {
   "cell_type": "code",
   "execution_count": null,
   "metadata": {},
   "outputs": [],
   "source": [
    "torchaudio.set_audio_backend(\"soundfile\")\n",
    "input_train_dir=\"../Datasets/WhiteNoise_Train_Input\"\n",
    "output_train_dir=\"../Datasets/WhiteNoise_Train_Output\""
   ]
  },
  {
   "cell_type": "code",
   "execution_count": 5,
   "metadata": {},
   "outputs": [],
   "source": [
    "sample_rate = 48000\n",
    "n_fft = (sample_rate * 64) // 1000 \n",
    "hop_length = (sample_rate * 16) // 1000 \n"
   ]
  },
  {
   "cell_type": "code",
   "execution_count": 6,
   "metadata": {},
   "outputs": [],
   "source": [
    "\n",
    "train_input =sorted( list(Path(input_train_dir).iterdir()))\n",
    "train_target = sorted(list(Path(output_train_dir).iterdir()))"
   ]
  },
  {
   "cell_type": "code",
   "execution_count": 7,
   "metadata": {},
   "outputs": [],
   "source": [
    "train_on_gpu=torch.cuda.is_available()      \n",
    "DEVICE = torch.device('cuda' if train_on_gpu else 'cpu')"
   ]
  },
  {
   "cell_type": "code",
   "execution_count": 8,
   "metadata": {},
   "outputs": [],
   "source": [
    "train_data=N2NDataset(train_input, train_target, n_fft, hop_length)\n",
    "train_dataloader = DataLoader(train_data, batch_size=2, shuffle=True)"
   ]
  },
  {
   "cell_type": "code",
   "execution_count": 9,
   "metadata": {},
   "outputs": [],
   "source": [
    "n2n = Noise2NoiseUNet(n_fft, hop_length).to(DEVICE)\n",
    "optimizer = torch.optim.Adam(n2n.parameters())"
   ]
  },
  {
   "cell_type": "code",
   "execution_count": null,
   "metadata": {},
   "outputs": [],
   "source": [
    "loss_per_epoch = train(n2n, train_dataloader, optimizer,n_fft, hop_length)"
   ]
  },
  {
   "cell_type": "code",
   "execution_count": null,
   "metadata": {},
   "outputs": [],
   "source": [
    "test_input = sorted(list(Path(\"Samples/Sample_Test_Input\").rglob('*.wav')))\n",
    "test_output = sorted(list(Path(\"Samples/Sample_Test_Target\").rglob('*.wav')))\n",
    "\n",
    "test_dataset = N2NDataset(test_input, test_output, n_fft, hop_length)\n",
    "test_loader = DataLoader(test_dataset, batch_size=1, shuffle=False)"
   ]
  },
  {
   "cell_type": "code",
   "execution_count": null,
   "metadata": {},
   "outputs": [],
   "source": [
    "n2n.eval()\n",
    "test_loader_single_unshuffled_iter = iter(test_loader)\n",
    "\n",
    "x_n, x_c = next(test_loader_single_unshuffled_iter)\n",
    "for _ in range(4):\n",
    "    x_n, x_c = next(test_loader_single_unshuffled_iter)\n",
    "\n",
    "x_est = n2n(x_n, is_istft=True)"
   ]
  },
  {
   "cell_type": "code",
   "execution_count": null,
   "metadata": {},
   "outputs": [],
   "source": [
    "x_est_np = x_est[0].view(-1).detach().cpu().numpy()\n",
    "x_c=torch.view_as_complex(x_c)\n",
    "x_n=torch.view_as_complex(x_n)\n",
    "x_c_np = torch.istft(torch.squeeze(x_c[0], 1), n_fft=n_fft, hop_length=hop_length, normalized=True).view(-1).detach().cpu().numpy()\n",
    "x_n_np = torch.istft(torch.squeeze(x_n[0], 1), n_fft=n_fft, hop_length=hop_length, normalized=True).view(-1).detach().cpu().numpy()"
   ]
  }
 ],
 "metadata": {
  "kernelspec": {
   "display_name": "pix2pix",
   "language": "python",
   "name": "python3"
  },
  "language_info": {
   "codemirror_mode": {
    "name": "ipython",
    "version": 3
   },
   "file_extension": ".py",
   "mimetype": "text/x-python",
   "name": "python",
   "nbconvert_exporter": "python",
   "pygments_lexer": "ipython3",
   "version": "3.12.6"
  }
 },
 "nbformat": 4,
 "nbformat_minor": 2
}
