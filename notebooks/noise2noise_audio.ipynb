{
 "cells": [
  {
   "cell_type": "code",
   "execution_count": 1,
   "metadata": {},
   "outputs": [],
   "source": [
    "%load_ext autoreload\n",
    "%autoreload 2"
   ]
  },
  {
   "cell_type": "code",
   "execution_count": 2,
   "metadata": {},
   "outputs": [],
   "source": [
    "from pathstuff import get_path\n",
    "path=get_path()\n"
   ]
  },
  {
   "cell_type": "code",
   "execution_count": null,
   "metadata": {},
   "outputs": [],
   "source": [
    "import torchaudio\n",
    "import torch\n",
    "from pathlib import Path\n",
    "from models.dataset import N2NDataset\n",
    "from models.noise2noiseunet import Noise2NoiseUNet\n",
    "from models.train_test import train,loss_function\n",
    "from torch.utils.data import DataLoader\n",
    "import noise_addition_utils\n",
    "import numpy as np\n",
    "from models.metrics import AudioMetrics\n",
    "from models.metrics import AudioMetrics2"
   ]
  },
  {
   "cell_type": "code",
   "execution_count": null,
   "metadata": {},
   "outputs": [],
   "source": [
    "np.random.seed(999)\n",
    "torch.manual_seed(999)\n",
    "\n",
    "# If running on Cuda set these 2 for determinism\n",
    "torch.backends.cudnn.deterministic = True\n",
    "torch.backends.cudnn.benchmark = False"
   ]
  },
  {
   "cell_type": "code",
   "execution_count": null,
   "metadata": {},
   "outputs": [],
   "source": [
    "torchaudio.set_audio_backend(\"soundfile\")\n",
    "input_train_dir=\"../Datasets/WhiteNoise_Train_Input\"\n",
    "output_train_dir=\"../Datasets/WhiteNoise_Train_Output\"\n"
   ]
  },
  {
   "cell_type": "code",
   "execution_count": 6,
   "metadata": {},
   "outputs": [],
   "source": [
    "sample_rate = 48000\n",
    "n_fft = (sample_rate * 64) // 1000 \n",
    "hop_length = (sample_rate * 16) // 1000 \n"
   ]
  },
  {
   "cell_type": "code",
   "execution_count": 7,
   "metadata": {},
   "outputs": [],
   "source": [
    "\n",
    "train_input =list(Path(input_train_dir).iterdir())\n",
    "train_target = list(Path(output_train_dir).iterdir())\n",
    "\n",
    "val_noisy_input = list(Path(\"../Datasets/WhiteNoise_Test_Input\").iterdir())\n",
    "val_clean_output = list(Path('../Datasets/clean_testset_wav').iterdir()) "
   ]
  },
  {
   "cell_type": "code",
   "execution_count": 8,
   "metadata": {},
   "outputs": [],
   "source": [
    "train_on_gpu=torch.cuda.is_available()      \n",
    "DEVICE = torch.device('cuda' if train_on_gpu else 'cpu')"
   ]
  },
  {
   "cell_type": "code",
   "execution_count": 9,
   "metadata": {},
   "outputs": [],
   "source": [
    "train_data=N2NDataset(train_input, train_target, n_fft, hop_length)\n",
    "train_dataloader = DataLoader(train_data, batch_size=2, shuffle=True)\n",
    "\n",
    "val_data=N2NDataset(val_noisy_input,val_clean_output, n_fft, hop_length)\n",
    "val_dataloader = DataLoader(val_data, batch_size=2, shuffle=True)"
   ]
  },
  {
   "cell_type": "code",
   "execution_count": 11,
   "metadata": {},
   "outputs": [],
   "source": [
    "n2n = Noise2NoiseUNet(n_fft, hop_length).to(DEVICE)\n",
    "optimizer = torch.optim.Adam(n2n.parameters())\n",
    "scheduler = torch.optim.lr_scheduler.StepLR(optimizer, step_size=1, gamma=0.1)"
   ]
  },
  {
   "cell_type": "code",
   "execution_count": null,
   "metadata": {},
   "outputs": [],
   "source": [
    "loss_per_epoch,val_loss = train(n2n, train_dataloader,val_dataloader,loss_function,optimizer,n_fft, hop_length,scheduler)"
   ]
  },
  {
   "cell_type": "code",
   "execution_count": null,
   "metadata": {},
   "outputs": [],
   "source": [
    "test_input = list(Path(\"Samples/Sample_Test_Input\").iterdir())\n",
    "test_output = list(Path(\"Samples/Sample_Test_Target\").iterdir())\n",
    "\n",
    "test_dataset = N2NDataset(test_input, test_output, n_fft, hop_length)\n",
    "test_loader = DataLoader(test_dataset, batch_size=1, shuffle=False)"
   ]
  },
  {
   "cell_type": "code",
   "execution_count": null,
   "metadata": {},
   "outputs": [],
   "source": [
    "n2n.eval()\n",
    "test_dataloader= iter(test_loader)\n",
    "nosiy_inp, clean_out = next(test_dataloader)\n",
    "\n",
    "for _ in range(4):\n",
    "    nosiy_inp, clean_out = next(test_dataloader)\n",
    "pred_out = n2n(nosiy_inp, is_istft=True)"
   ]
  },
  {
   "cell_type": "code",
   "execution_count": null,
   "metadata": {},
   "outputs": [],
   "source": [
    "pred_out_np = pred_out[0].view(-1).detach().cpu().numpy()\n",
    "clean_out=torch.view_as_complex(clean_out)\n",
    "nosiy_inp=torch.view_as_complex(nosiy_inp)\n",
    "clean_out_np = torch.istft(torch.squeeze(clean_out[0], 1), n_fft=n_fft, hop_length=hop_length, normalized=True).view(-1).detach().cpu().numpy()\n",
    "nosiy_inp_np = torch.istft(torch.squeeze(nosiy_inp[0], 1), n_fft=n_fft, hop_length=hop_length, normalized=True).view(-1).detach().cpu().numpy()"
   ]
  },
  {
   "cell_type": "code",
   "execution_count": null,
   "metadata": {},
   "outputs": [],
   "source": [
    "metrics = AudioMetrics(clean_out_np, pred_out_np, sample_rate)\n",
    "print(metrics.display())"
   ]
  },
  {
   "cell_type": "code",
   "execution_count": null,
   "metadata": {},
   "outputs": [],
   "source": [
    "\n",
    "def save_audio(np_array=np.array([0.5]*1000),file_path='./sample_audio.wav', sample_rate=48000, bit_precision=16):\n",
    "    np_array = np.reshape(np_array, (1,-1))\n",
    "    torch_tensor = torch.from_numpy(np_array)\n",
    "    torchaudio.save(file_path, torch_tensor, sample_rate, bits_per_sample=bit_precision)"
   ]
  },
  {
   "cell_type": "code",
   "execution_count": null,
   "metadata": {},
   "outputs": [],
   "source": [
    "save_audio(np_array=pred_out_np,file_path=str(Path(\"../Samples/denoised.wav\")), sample_rate=sample_rate, bit_precision=16)\n",
    "save_audio(np_array=clean_out_np,file_path=str(Path(\"../Samples/clean.wav\")), sample_rate=sample_rate, bit_precision=16)\n",
    "save_audio(np_array=nosiy_inp_np,file_path=str(Path(\"../Samples/noisy.wav\")), sample_rate=sample_rate, bit_precision=16)"
   ]
  }
 ],
 "metadata": {
  "kernelspec": {
   "display_name": "pix2pix",
   "language": "python",
   "name": "python3"
  },
  "language_info": {
   "codemirror_mode": {
    "name": "ipython",
    "version": 3
   },
   "file_extension": ".py",
   "mimetype": "text/x-python",
   "name": "python",
   "nbconvert_exporter": "python",
   "pygments_lexer": "ipython3",
   "version": "3.12.6"
  }
 },
 "nbformat": 4,
 "nbformat_minor": 2
}
